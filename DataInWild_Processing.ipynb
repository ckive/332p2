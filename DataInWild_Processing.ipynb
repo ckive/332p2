{
 "cells": [
  {
   "cell_type": "code",
   "execution_count": 1,
   "id": "a11c38e8",
   "metadata": {},
   "outputs": [],
   "source": [
    "import numpy as np\n",
    "import pandas as pd\n",
    "import os, json"
   ]
  },
  {
   "cell_type": "code",
   "execution_count": 2,
   "id": "6e4e189f",
   "metadata": {},
   "outputs": [],
   "source": [
    "basedir = \"epldat10seasons/\"\n",
    "cleanfolder = \"cleaned_data/\""
   ]
  },
  {
   "cell_type": "code",
   "execution_count": 3,
   "id": "407a99f6",
   "metadata": {},
   "outputs": [],
   "source": [
    "files = os.listdir(basedir)"
   ]
  },
  {
   "cell_type": "code",
   "execution_count": 4,
   "id": "aadf1954",
   "metadata": {},
   "outputs": [],
   "source": [
    "# listof(sets)\n",
    "teams = []\n",
    "for filename in files:\n",
    "    if filename.endswith(\"results-pts.csv\"):\n",
    "        season = filename[:7]\n",
    "        file = pd.read_csv(basedir+filename)\n",
    "        # count teams for OGTEAMS\n",
    "        teams.append(set(file['Club']))\n",
    "        # to csv\n",
    "        file.set_index(\"Club\", inplace=True)\n",
    "        file.drop([col for col in file.columns if not col.endswith(\"Points\")], axis=1, inplace=True)\n",
    "        # NxJ\n",
    "        file.transpose().to_csv(cleanfolder+f\"{season}_pts.csv\", index=False)"
   ]
  },
  {
   "cell_type": "code",
   "execution_count": 5,
   "id": "9d126efe",
   "metadata": {},
   "outputs": [
    {
     "data": {
      "text/plain": [
       "{'Arsenal',\n",
       " 'Chelsea',\n",
       " 'Everton',\n",
       " 'Liverpool',\n",
       " 'Man City',\n",
       " 'Man Utd',\n",
       " 'Tottenham'}"
      ]
     },
     "execution_count": 5,
     "metadata": {},
     "output_type": "execute_result"
    }
   ],
   "source": [
    "ogteams = teams[0]\n",
    "for team in teams:\n",
    "    ogteams = ogteams.intersection(team)\n",
    "ogteams\n",
    "# WOW..."
   ]
  },
  {
   "cell_type": "code",
   "execution_count": 6,
   "id": "1cfc42b0",
   "metadata": {},
   "outputs": [],
   "source": [
    "# Combine them (from the cleaned data)"
   ]
  },
  {
   "cell_type": "code",
   "execution_count": 7,
   "id": "b7665229",
   "metadata": {},
   "outputs": [],
   "source": [
    "cleaned_files = os.listdir(cleanfolder)"
   ]
  },
  {
   "cell_type": "code",
   "execution_count": 8,
   "id": "ab475950",
   "metadata": {},
   "outputs": [],
   "source": [
    "def yield_merge(cleaned_files):\n",
    "    for filename in cleaned_files:\n",
    "        if not filename.startswith('epltenyears'):\n",
    "            file = pd.read_csv(cleanfolder+filename)\n",
    "            yield file[[col for col in file.columns if col in ogteams]]"
   ]
  },
  {
   "cell_type": "code",
   "execution_count": 9,
   "id": "17a6ac74",
   "metadata": {},
   "outputs": [],
   "source": [
    "ogdatagenerator = yield_merge(cleaned_files)"
   ]
  },
  {
   "cell_type": "code",
   "execution_count": 10,
   "id": "936c09c8",
   "metadata": {},
   "outputs": [],
   "source": [
    "totdf = pd.concat(ogdatagenerator)"
   ]
  },
  {
   "cell_type": "code",
   "execution_count": 11,
   "id": "1cdb6c5c",
   "metadata": {},
   "outputs": [
    {
     "data": {
      "text/html": [
       "<div>\n",
       "<style scoped>\n",
       "    .dataframe tbody tr th:only-of-type {\n",
       "        vertical-align: middle;\n",
       "    }\n",
       "\n",
       "    .dataframe tbody tr th {\n",
       "        vertical-align: top;\n",
       "    }\n",
       "\n",
       "    .dataframe thead th {\n",
       "        text-align: right;\n",
       "    }\n",
       "</style>\n",
       "<table border=\"1\" class=\"dataframe\">\n",
       "  <thead>\n",
       "    <tr style=\"text-align: right;\">\n",
       "      <th></th>\n",
       "      <th>Arsenal</th>\n",
       "      <th>Chelsea</th>\n",
       "      <th>Everton</th>\n",
       "      <th>Liverpool</th>\n",
       "      <th>Man City</th>\n",
       "      <th>Man Utd</th>\n",
       "      <th>Tottenham</th>\n",
       "    </tr>\n",
       "  </thead>\n",
       "  <tbody>\n",
       "    <tr>\n",
       "      <th>0</th>\n",
       "      <td>3</td>\n",
       "      <td>3</td>\n",
       "      <td>1</td>\n",
       "      <td>3</td>\n",
       "      <td>3</td>\n",
       "      <td>0</td>\n",
       "      <td>3</td>\n",
       "    </tr>\n",
       "    <tr>\n",
       "      <th>1</th>\n",
       "      <td>1</td>\n",
       "      <td>3</td>\n",
       "      <td>1</td>\n",
       "      <td>0</td>\n",
       "      <td>3</td>\n",
       "      <td>1</td>\n",
       "      <td>3</td>\n",
       "    </tr>\n",
       "    <tr>\n",
       "      <th>2</th>\n",
       "      <td>1</td>\n",
       "      <td>3</td>\n",
       "      <td>0</td>\n",
       "      <td>3</td>\n",
       "      <td>0</td>\n",
       "      <td>1</td>\n",
       "      <td>0</td>\n",
       "    </tr>\n",
       "    <tr>\n",
       "      <th>3</th>\n",
       "      <td>1</td>\n",
       "      <td>3</td>\n",
       "      <td>3</td>\n",
       "      <td>0</td>\n",
       "      <td>1</td>\n",
       "      <td>3</td>\n",
       "      <td>1</td>\n",
       "    </tr>\n",
       "    <tr>\n",
       "      <th>4</th>\n",
       "      <td>3</td>\n",
       "      <td>1</td>\n",
       "      <td>0</td>\n",
       "      <td>0</td>\n",
       "      <td>1</td>\n",
       "      <td>0</td>\n",
       "      <td>0</td>\n",
       "    </tr>\n",
       "    <tr>\n",
       "      <th>...</th>\n",
       "      <td>...</td>\n",
       "      <td>...</td>\n",
       "      <td>...</td>\n",
       "      <td>...</td>\n",
       "      <td>...</td>\n",
       "      <td>...</td>\n",
       "      <td>...</td>\n",
       "    </tr>\n",
       "    <tr>\n",
       "      <th>33</th>\n",
       "      <td>3</td>\n",
       "      <td>3</td>\n",
       "      <td>1</td>\n",
       "      <td>0</td>\n",
       "      <td>1</td>\n",
       "      <td>1</td>\n",
       "      <td>3</td>\n",
       "    </tr>\n",
       "    <tr>\n",
       "      <th>34</th>\n",
       "      <td>3</td>\n",
       "      <td>3</td>\n",
       "      <td>0</td>\n",
       "      <td>3</td>\n",
       "      <td>3</td>\n",
       "      <td>0</td>\n",
       "      <td>0</td>\n",
       "    </tr>\n",
       "    <tr>\n",
       "      <th>35</th>\n",
       "      <td>3</td>\n",
       "      <td>3</td>\n",
       "      <td>0</td>\n",
       "      <td>1</td>\n",
       "      <td>3</td>\n",
       "      <td>0</td>\n",
       "      <td>3</td>\n",
       "    </tr>\n",
       "    <tr>\n",
       "      <th>36</th>\n",
       "      <td>3</td>\n",
       "      <td>3</td>\n",
       "      <td>3</td>\n",
       "      <td>3</td>\n",
       "      <td>3</td>\n",
       "      <td>1</td>\n",
       "      <td>3</td>\n",
       "    </tr>\n",
       "    <tr>\n",
       "      <th>37</th>\n",
       "      <td>3</td>\n",
       "      <td>3</td>\n",
       "      <td>0</td>\n",
       "      <td>3</td>\n",
       "      <td>3</td>\n",
       "      <td>3</td>\n",
       "      <td>3</td>\n",
       "    </tr>\n",
       "  </tbody>\n",
       "</table>\n",
       "<p>380 rows × 7 columns</p>\n",
       "</div>"
      ],
      "text/plain": [
       "    Arsenal  Chelsea  Everton  Liverpool  Man City  Man Utd  Tottenham\n",
       "0         3        3        1          3         3        0          3\n",
       "1         1        3        1          0         3        1          3\n",
       "2         1        3        0          3         0        1          0\n",
       "3         1        3        3          0         1        3          1\n",
       "4         3        1        0          0         1        0          0\n",
       "..      ...      ...      ...        ...       ...      ...        ...\n",
       "33        3        3        1          0         1        1          3\n",
       "34        3        3        0          3         3        0          0\n",
       "35        3        3        0          1         3        0          3\n",
       "36        3        3        3          3         3        1          3\n",
       "37        3        3        0          3         3        3          3\n",
       "\n",
       "[380 rows x 7 columns]"
      ]
     },
     "execution_count": 11,
     "metadata": {},
     "output_type": "execute_result"
    }
   ],
   "source": [
    "totdf"
   ]
  },
  {
   "cell_type": "code",
   "execution_count": 12,
   "id": "31dc5ca9",
   "metadata": {},
   "outputs": [],
   "source": [
    "totdf.to_csv(cleanfolder+\"epltenyears_pts.csv\", index=False)"
   ]
  },
  {
   "cell_type": "code",
   "execution_count": null,
   "id": "1a799d02",
   "metadata": {},
   "outputs": [],
   "source": []
  }
 ],
 "metadata": {
  "kernelspec": {
   "display_name": "Python 3 (ipykernel)",
   "language": "python",
   "name": "python3"
  },
  "language_info": {
   "codemirror_mode": {
    "name": "ipython",
    "version": 3
   },
   "file_extension": ".py",
   "mimetype": "text/x-python",
   "name": "python",
   "nbconvert_exporter": "python",
   "pygments_lexer": "ipython3",
   "version": "3.9.12"
  }
 },
 "nbformat": 4,
 "nbformat_minor": 5
}
